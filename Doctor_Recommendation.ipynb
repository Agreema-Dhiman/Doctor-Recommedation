{
  "cells": [
    {
      "cell_type": "markdown",
      "id": "db119e1e",
      "metadata": {
        "id": "db119e1e"
      },
      "source": [
        "#Loading dataset"
      ]
    },
    {
      "cell_type": "markdown",
      "source": [
        "Dataset https://www.kaggle.com/datasets/kaushil268/disease-prediction-using-machine-learning?select=Training.csv has been modified for this model.\n",
        "The prognosis column has been changed to speciality. For Example, the prognosis of migraine is mapped to the speciality doctor- Physician."
      ],
      "metadata": {
        "id": "ZoTc-wtOiebY"
      },
      "id": "ZoTc-wtOiebY"
    },
    {
      "cell_type": "code",
      "execution_count": 1,
      "id": "4e4766bf",
      "metadata": {
        "id": "4e4766bf"
      },
      "outputs": [],
      "source": [
        "import  pandas as pd"
      ]
    },
    {
      "cell_type": "code",
      "execution_count": 3,
      "id": "56ce4778",
      "metadata": {
        "id": "56ce4778"
      },
      "outputs": [],
      "source": [
        "dataset = pd.read_csv('healthcaredoctors.csv')"
      ]
    },
    {
      "cell_type": "markdown",
      "id": "2db916ab",
      "metadata": {
        "id": "2db916ab"
      },
      "source": [
        "# Train-test split"
      ]
    },
    {
      "cell_type": "code",
      "execution_count": 4,
      "id": "b1e9c647",
      "metadata": {
        "id": "b1e9c647"
      },
      "outputs": [],
      "source": [
        "from sklearn.model_selection import train_test_split\n",
        "from sklearn.preprocessing import LabelEncoder"
      ]
    },
    {
      "cell_type": "code",
      "execution_count": 5,
      "id": "4cb2e972",
      "metadata": {
        "id": "4cb2e972"
      },
      "outputs": [],
      "source": [
        "X = dataset.drop('speciality', axis=1)\n",
        "y = dataset['speciality']\n",
        "\n",
        "le = LabelEncoder()\n",
        "le.fit(y)\n",
        "Y = le.transform(y)\n",
        "\n",
        "X_train, X_test, y_train, y_test = train_test_split(X, Y, test_size=0.3, random_state=20)"
      ]
    },
    {
      "cell_type": "markdown",
      "id": "1c1a9ed2",
      "metadata": {
        "id": "1c1a9ed2"
      },
      "source": [
        "# Training SVM Model"
      ]
    },
    {
      "cell_type": "code",
      "execution_count": 21,
      "id": "5b9c4a9e",
      "metadata": {
        "colab": {
          "base_uri": "https://localhost:8080/"
        },
        "id": "5b9c4a9e",
        "outputId": "1163729b-a399-4a2b-dc7d-4a07f8952ef2"
      },
      "outputs": [
        {
          "output_type": "stream",
          "name": "stdout",
          "text": [
            "Accuracy: 0.47692307692307695\n"
          ]
        }
      ],
      "source": [
        "from sklearn.datasets import make_classification\n",
        "from sklearn.model_selection import train_test_split\n",
        "from sklearn.svm import SVC\n",
        "from sklearn.metrics import accuracy_score, confusion_matrix\n",
        "import numpy as np\n",
        "\n",
        "ksvm =SVC(kernel='linear')\n",
        "\n",
        "ksvm.fit(X_train, y_train)\n",
        "\n",
        "accuracy = ksvm.score(X_test, y_test)\n",
        "print('Accuracy:', accuracy)\n"
      ]
    },
    {
      "cell_type": "markdown",
      "id": "36cee3c8",
      "metadata": {
        "id": "36cee3c8"
      },
      "source": [
        "#Single Prediction"
      ]
    },
    {
      "cell_type": "code",
      "execution_count": 22,
      "id": "a74ad639",
      "metadata": {
        "colab": {
          "base_uri": "https://localhost:8080/"
        },
        "id": "a74ad639",
        "outputId": "89d73dcd-150d-4540-eca0-edde1abc0346"
      },
      "outputs": [
        {
          "output_type": "stream",
          "name": "stdout",
          "text": [
            "The doctor you should consult is ['Dermatologist']\n"
          ]
        },
        {
          "output_type": "stream",
          "name": "stderr",
          "text": [
            "/usr/local/lib/python3.10/dist-packages/sklearn/base.py:439: UserWarning: X does not have valid feature names, but SVC was fitted with feature names\n",
            "  warnings.warn(\n"
          ]
        }
      ],
      "source": [
        "#This tuple denotes the symptoms - itching and skin rash as 1 and other symptoms as 0\n",
        "arr=np.array([1,1,0,0,0,0,0,0,0,0,0,0,0,0,0,0,0,0,0,0,0,0,0,0,0,0,0,0,0,0,0,0,0,0,0,0,0,0,0,0,0,0,0,0,0,0,0,0,0,0,0,0,0,0,0,0,0,0,0,0,0,0,0,0,0,0,0,0,0,0,0,0,0,0,0,0,0,0,0,0,0,0,0,0,0,0,0,0,0,0,0,0,0,0,0,0,0,0,0,0,0,0,0,0,0,0,0,0,0,0,0,0,0,0,0,0,0,0,0,0,0,0,0,0,0,0,0,0,0,0,0,0])\n",
        "print(f\"The doctor you should consult is {le.inverse_transform(ksvm.predict(arr.reshape(1, -1)))}\")"
      ]
    }
  ],
  "metadata": {
    "kernelspec": {
      "display_name": "Python 3 (ipykernel)",
      "language": "python",
      "name": "python3"
    },
    "language_info": {
      "codemirror_mode": {
        "name": "ipython",
        "version": 3
      },
      "file_extension": ".py",
      "mimetype": "text/x-python",
      "name": "python",
      "nbconvert_exporter": "python",
      "pygments_lexer": "ipython3",
      "version": "3.9.12"
    },
    "colab": {
      "provenance": [],
      "toc_visible": true
    }
  },
  "nbformat": 4,
  "nbformat_minor": 5
}